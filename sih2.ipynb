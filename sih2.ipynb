{
 "cells": [
  {
   "cell_type": "code",
   "execution_count": 21,
   "id": "4f65c069",
   "metadata": {},
   "outputs": [
    {
     "name": "stdout",
     "output_type": "stream",
     "text": [
      "✅ Data saved into argo.db (table: argo_profiles)\n"
     ]
    }
   ],
   "source": [
    "import os\n",
    "import pandas as pd\n",
    "import sqlite3\n",
    "\n",
    "df=pd.read_csv('argo_dummy.csv')\n",
    "conn = sqlite3.connect(\"argo.db\")\n",
    "df.to_sql(\"argo_profiles\", conn, if_exists=\"replace\", index=False)\n",
    "\n",
    "conn.close()\n",
    "print(\"✅ Data saved into argo.db (table: argo_profiles)\")\n"
   ]
  },
  {
   "cell_type": "code",
   "execution_count": 29,
   "id": "602458dc",
   "metadata": {},
   "outputs": [
    {
     "data": {
      "image/png": "[encoded data removed]",
      "text/plain": [
       "<Figure size 640x480 with 1 Axes>"
      ]
     },
     "metadata": {},
     "output_type": "display_data"
    }
   ],
   "source": [
    "from langchain_community.agent_toolkits import create_sql_agent\n",
    "from langchain_community.utilities import SQLDatabase\n",
    "from langchain_experimental.tools import PythonREPLTool\n",
    "from langchain.agents import initialize_agent, AgentType\n",
    "from langchain_community.agent_toolkits import SQLDatabaseToolkit\n",
    "from dotenv import load_dotenv  \n",
    "from typing import TypedDict, Annotated\n",
    "from langchain_core.messages import BaseMessage\n",
    "load_dotenv()\n",
    "# 1. Connect to your SQLite DB\n",
    "db = SQLDatabase.from_uri(\"sqlite:///argo.db\")\n",
    "if not os.environ.get(\"GROQ_API_KEY\"):\n",
    "  os.environ[\"GROQ_API_KEY\"] = getpass.getpass(\"Enter API key for Groq: \")\n",
    "\n",
    "from langchain.chat_models import init_chat_model\n",
    "\n",
    "llm = init_chat_model(\"gemma2-9b-it\", model_provider=\"groq\")\n",
    "\n",
    "from langchain_core.tools import Tool\n",
    "from langchain_experimental.utilities import PythonREPL\n",
    "python_repl = PythonREPL()\n",
    "\n",
    "toolkit = SQLDatabaseToolkit(db=db, llm=llm)\n",
    "\n",
    "from langgraph.checkpoint.memory import InMemorySaver\n",
    "from langgraph.graph.message import add_messages\n",
    "from langgraph.graph import StateGraph, START, END\n",
    "class ChatState(TypedDict):\n",
    "    messages: Annotated[list[BaseMessage], add_messages]\n",
    "    remaining_steps: int\n",
    "\n",
    "\n",
    "repl_tool = Tool(\n",
    "    name=\"python_repl\",\n",
    "    description=\"A Python shell. Use this to execute python commands. Input should be a valid python command. If you want to see the output of a value, you should print it out with `print(...)`.\",\n",
    "    func=python_repl.run,\n",
    ")\n",
    "tools = toolkit.get_tools() + [repl_tool]\n",
    "\n",
    "\n",
    "sql_agent = create_sql_agent(llm, db=db, verbose=True)\n",
    "checkpointer = InMemorySaver()\n",
    "\n",
    "from langgraph.prebuilt import create_react_agent\n",
    "agent = create_react_agent(\n",
    "    model=llm,  \n",
    "    tools=tools, \n",
    "    # state_schema=ChatState ,\n",
    "    prompt='''You are a helpful assistant, user will give you a prompt ,based on that first you will answer with logic from database and nlp , descrive your answers and then create visualization plots such as histogram or barplots using matplotlib and seaborn by fetching values from database.dont take much time and only give answers for 5 values from database, also explain the query with the database logic and only create graphs if needed\n",
    "    , given columns:float_id,date,latitude,longitude,depth,temperature,salinity,pressure,oxygen,pH,conductivity,region\n",
    "    and table name: argo_profiles, dont iterate much between tools and give final answer as a graph only. recursion limit =5\n",
    "    IMPORTANT: after creating plots also do plt.savefig(\"output.png\") at the end\n",
    "    ''',\n",
    "    # checkpointer=checkpointer,\n",
    ")\n",
    "\n",
    "\n",
    "agent.invoke(\n",
    "    {\"messages\": [{\"role\": \"user\", \"content\": \"temperaturea around equator\"}]}\n",
    ")\n",
    "\n",
    "\n",
    "graph = StateGraph(ChatState)\n",
    "graph.add_node(\"chat_node\", agent)\n",
    "graph.add_edge(START, \"chat_node\")\n",
    "graph.add_edge(\"chat_node\", END)\n",
    "\n",
    "chatbot = graph.compile(checkpointer=checkpointer)\n",
    "# print(\"🤖 Answer:\", response)\n",
    "\n",
    "#You are a helpful assistant, user will give you a prompt based on that look into the database fetch some values, and generate code for\n",
    "    # the visulaization and then give it to python repl to run the code and get the visualization.dont take much time and only give answers for 5 values from database\n",
    "    # , given columns:float_id,date,latitude,longitude,depth,temperature,salinity,pressure,oxygen,pH,conductivity,region\n",
    "    # and table name: argo_profiles"
   ]
  },
  {
   "cell_type": "code",
   "execution_count": null,
   "id": "cfea4969",
   "metadata": {},
   "outputs": [],
   "source": []
  }
 ],
 "metadata": {
  "kernelspec": {
   "display_name": "venv",
   "language": "python",
   "name": "python3"
  },
  "language_info": {
   "codemirror_mode": {
    "name": "ipython",
    "version": 3
   },
   "file_extension": ".py",
   "mimetype": "text/x-python",
   "name": "python",
   "nbconvert_exporter": "python",
   "pygments_lexer": "ipython3",
   "version": "3.13.2"
  }
 },
 "nbformat": 4,
 "nbformat_minor": 5
}

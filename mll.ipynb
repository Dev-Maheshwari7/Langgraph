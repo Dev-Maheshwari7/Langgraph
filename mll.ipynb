{
 "cells": [
  {
   "cell_type": "code",
   "execution_count": 58,
   "id": "36c60f2f",
   "metadata": {},
   "outputs": [
    {
     "name": "stdout",
     "output_type": "stream",
     "text": [
      "<class 'pandas.core.frame.DataFrame'>\n",
      "RangeIndex: 2900 entries, 0 to 2899\n",
      "Data columns (total 8 columns):\n",
      " #   Column                     Non-Null Count  Dtype  \n",
      "---  ------                     --------------  -----  \n",
      " 0   Time_spent_Alone           2900 non-null   float64\n",
      " 1   Stage_fear                 2900 non-null   object \n",
      " 2   Social_event_attendance    2900 non-null   float64\n",
      " 3   Going_outside              2900 non-null   float64\n",
      " 4   Drained_after_socializing  2900 non-null   object \n",
      " 5   Friends_circle_size        2900 non-null   float64\n",
      " 6   Post_frequency             2900 non-null   float64\n",
      " 7   Personality                2900 non-null   object \n",
      "dtypes: float64(5), object(3)\n",
      "memory usage: 181.4+ KB\n"
     ]
    },
    {
     "data": {
      "image/png": "[encoded data removed]",
      "text/plain": [
       "<Figure size 640x480 with 1 Axes>"
      ]
     },
     "metadata": {},
     "output_type": "display_data"
    }
   ],
   "source": [
    "import pandas as pd     \n",
    "import os\n",
    "import numpy as np\n",
    "import matplotlib.pyplot as plt\n",
    "\n",
    "\n",
    "df=pd.read_csv('personality_datasert.csv')\n",
    "df.head()\n",
    "plt.plot(df['Friends_circle_size'], df['Personality'],'r+')\n",
    "df.info()\n"
   ]
  },
  {
   "cell_type": "code",
   "execution_count": 59,
   "id": "95b66e95",
   "metadata": {},
   "outputs": [
    {
     "data": {
      "text/html": [
       "<div>\n",
       "<style scoped>\n",
       "    .dataframe tbody tr th:only-of-type {\n",
       "        vertical-align: middle;\n",
       "    }\n",
       "\n",
       "    .dataframe tbody tr th {\n",
       "        vertical-align: top;\n",
       "    }\n",
       "\n",
       "    .dataframe thead th {\n",
       "        text-align: right;\n",
       "    }\n",
       "</style>\n",
       "<table border=\"1\" class=\"dataframe\">\n",
       "  <thead>\n",
       "    <tr style=\"text-align: right;\">\n",
       "      <th></th>\n",
       "      <th>Time_spent_Alone</th>\n",
       "      <th>Stage_fear</th>\n",
       "      <th>Social_event_attendance</th>\n",
       "      <th>Going_outside</th>\n",
       "      <th>Drained_after_socializing</th>\n",
       "      <th>Friends_circle_size</th>\n",
       "      <th>Post_frequency</th>\n",
       "      <th>Personality</th>\n",
       "    </tr>\n",
       "  </thead>\n",
       "  <tbody>\n",
       "    <tr>\n",
       "      <th>0</th>\n",
       "      <td>4.0</td>\n",
       "      <td>No</td>\n",
       "      <td>4.0</td>\n",
       "      <td>6.0</td>\n",
       "      <td>No</td>\n",
       "      <td>13.0</td>\n",
       "      <td>5.0</td>\n",
       "      <td>Extrovert</td>\n",
       "    </tr>\n",
       "    <tr>\n",
       "      <th>1</th>\n",
       "      <td>9.0</td>\n",
       "      <td>Yes</td>\n",
       "      <td>0.0</td>\n",
       "      <td>0.0</td>\n",
       "      <td>Yes</td>\n",
       "      <td>0.0</td>\n",
       "      <td>3.0</td>\n",
       "      <td>Introvert</td>\n",
       "    </tr>\n",
       "    <tr>\n",
       "      <th>2</th>\n",
       "      <td>9.0</td>\n",
       "      <td>Yes</td>\n",
       "      <td>1.0</td>\n",
       "      <td>2.0</td>\n",
       "      <td>Yes</td>\n",
       "      <td>5.0</td>\n",
       "      <td>2.0</td>\n",
       "      <td>Introvert</td>\n",
       "    </tr>\n",
       "    <tr>\n",
       "      <th>3</th>\n",
       "      <td>0.0</td>\n",
       "      <td>No</td>\n",
       "      <td>6.0</td>\n",
       "      <td>7.0</td>\n",
       "      <td>No</td>\n",
       "      <td>14.0</td>\n",
       "      <td>8.0</td>\n",
       "      <td>Extrovert</td>\n",
       "    </tr>\n",
       "    <tr>\n",
       "      <th>4</th>\n",
       "      <td>3.0</td>\n",
       "      <td>No</td>\n",
       "      <td>9.0</td>\n",
       "      <td>4.0</td>\n",
       "      <td>No</td>\n",
       "      <td>8.0</td>\n",
       "      <td>5.0</td>\n",
       "      <td>Extrovert</td>\n",
       "    </tr>\n",
       "  </tbody>\n",
       "</table>\n",
       "</div>"
      ],
      "text/plain": [
       "   Time_spent_Alone Stage_fear  Social_event_attendance  Going_outside  \\\n",
       "0               4.0         No                      4.0            6.0   \n",
       "1               9.0        Yes                      0.0            0.0   \n",
       "2               9.0        Yes                      1.0            2.0   \n",
       "3               0.0         No                      6.0            7.0   \n",
       "4               3.0         No                      9.0            4.0   \n",
       "\n",
       "  Drained_after_socializing  Friends_circle_size  Post_frequency Personality  \n",
       "0                        No                 13.0             5.0   Extrovert  \n",
       "1                       Yes                  0.0             3.0   Introvert  \n",
       "2                       Yes                  5.0             2.0   Introvert  \n",
       "3                        No                 14.0             8.0   Extrovert  \n",
       "4                        No                  8.0             5.0   Extrovert  "
      ]
     },
     "execution_count": 59,
     "metadata": {},
     "output_type": "execute_result"
    }
   ],
   "source": [
    "df.head()"
   ]
  },
  {
   "cell_type": "code",
   "execution_count": null,
   "id": "b4018fea",
   "metadata": {},
   "outputs": [],
   "source": []
  },
  {
   "cell_type": "code",
   "execution_count": 60,
   "id": "8588cde6",
   "metadata": {},
   "outputs": [],
   "source": [
    "\n",
    "from sklearn.model_selection import train_test_split\n",
    "\n",
    "# Segregate features and target\n",
    "y = df['Personality']\n",
    "X = df.drop('Personality', axis=1)\n",
    "\n",
    "# Split into train and test sets"
   ]
  },
  {
   "cell_type": "code",
   "execution_count": 61,
   "id": "d64e8abf",
   "metadata": {},
   "outputs": [],
   "source": [
    "from sklearn.preprocessing import LabelEncoder, StandardScaler\n",
    "\n",
    "# Copy the dataframe to avoid modifying the original\n",
    "df_encoded = df.copy()\n",
    "\n",
    "# Label encode the specified columns\n",
    "le = LabelEncoder()\n",
    "for col in ['Stage_fear', 'Drained_after_socializing', 'Personality']:\n",
    "    df_encoded[col] = le.fit_transform(df_encoded[col])\n",
    "\n",
    "# Separate features and target\n",
    "X = df_encoded.drop('Personality', axis=1)\n",
    "y = df_encoded['Personality']\n",
    "\n",
    "# Standardize the features\n",
    "scaler = StandardScaler()\n",
    "X_scaled = scaler.fit_transform(X)\n",
    "\n",
    "# Now split the data\n",
    "from sklearn.model_selection import train_test_split\n",
    "X_train, X_test, y_train, y_test = train_test_split(X_scaled, y, test_size=0.2, random_state=42)"
   ]
  },
  {
   "cell_type": "code",
   "execution_count": 62,
   "id": "4c73cf5c",
   "metadata": {},
   "outputs": [
    {
     "name": "stdout",
     "output_type": "stream",
     "text": [
      "Logistic Regression Accuracy: 0.9190\n",
      "Random Forest Accuracy: 0.9207\n",
      "SVC Accuracy: 0.9293\n",
      "KNN Accuracy: 0.9259\n",
      "Decision Tree Accuracy: 0.8741\n"
     ]
    }
   ],
   "source": [
    "from sklearn.linear_model import LogisticRegression\n",
    "from sklearn.ensemble import RandomForestClassifier\n",
    "from sklearn.svm import SVC\n",
    "from sklearn.neighbors import KNeighborsClassifier\n",
    "from sklearn.tree import DecisionTreeClassifier\n",
    "from sklearn.metrics import accuracy_score\n",
    "\n",
    "models = {\n",
    "    'Logistic Regression': LogisticRegression(max_iter=1000),\n",
    "    'Random Forest': RandomForestClassifier(),\n",
    "    'SVC': SVC(),\n",
    "    'KNN': KNeighborsClassifier(),\n",
    "    'Decision Tree': DecisionTreeClassifier()\n",
    "}\n",
    "\n",
    "for name, model in models.items():\n",
    "    model.fit(X_train, y_train)\n",
    "    y_pred = model.predict(X_test)\n",
    "    acc = accuracy_score(y_test, y_pred)\n",
    "    print(f'{name} Accuracy: {acc:.4f}')"
   ]
  },
  {
   "cell_type": "code",
   "execution_count": null,
   "id": "8137358e",
   "metadata": {},
   "outputs": [],
   "source": []
  },
  {
   "cell_type": "code",
   "execution_count": 71,
   "id": "db182c70",
   "metadata": {},
   "outputs": [
    {
     "name": "stdout",
     "output_type": "stream",
     "text": [
      "SVC Accuracy: 0.9293103448275862\n",
      "Classification Report:\n",
      "              precision    recall  f1-score   support\n",
      "\n",
      "           0       0.94      0.92      0.93       302\n",
      "           1       0.92      0.94      0.93       278\n",
      "\n",
      "    accuracy                           0.93       580\n",
      "   macro avg       0.93      0.93      0.93       580\n",
      "weighted avg       0.93      0.93      0.93       580\n",
      "\n",
      "Confusion Matrix:\n",
      "[[278  24]\n",
      " [ 17 261]]\n"
     ]
    }
   ],
   "source": [
    "from sklearn.svm import SVC\n",
    "from sklearn.metrics import accuracy_score, classification_report, confusion_matrix\n",
    "\n",
    "# Train SVC\n",
    "svc = SVC()\n",
    "svc.fit(X_train, y_train)\n",
    "y_pred = svc.predict(X_test)\n",
    "\n",
    "# Accuracy\n",
    "print('SVC Accuracy:', accuracy_score(y_test, y_pred))\n",
    "\n",
    "# Classification report\n",
    "print('Classification Report:')\n",
    "print(classification_report(y_test, y_pred))\n",
    "\n",
    "# Confusion matrix\n",
    "print('Confusion Matrix:')\n",
    "print(confusion_matrix(y_test, y_pred))"
   ]
  },
  {
   "cell_type": "code",
   "execution_count": 64,
   "id": "da018782",
   "metadata": {},
   "outputs": [],
   "source": [
    "from typing import Annotated, Sequence, TypedDict\n",
    "from dotenv import load_dotenv  \n",
    "from langchain_core.messages import BaseMessage # The foundational class for all message types in LangGraph\n",
    "from langchain_core.messages import ToolMessage # Passes data back to LLM after it calls a tool such as the content and the tool_call_id\n",
    "from langchain_core.messages import SystemMessage # Message for providing instructions to the LLM\n",
    "from langchain_openai import ChatOpenAI\n",
    "from langchain_core.tools import tool\n",
    "from langgraph.graph.message import add_messages\n",
    "from langgraph.graph import StateGraph, END, MessagesState\n",
    "from langgraph.prebuilt import ToolNode\n",
    "from langchain_groq import ChatGroq       \n",
    "from langgraph.checkpoint.memory import MemorySaver\n"
   ]
  },
  {
   "cell_type": "code",
   "execution_count": 65,
   "id": "b160f6b2",
   "metadata": {},
   "outputs": [],
   "source": [
    "@tool\n",
    "def personality_predictor(\n",
    "    Time_spent_Alone: float,\n",
    "    Stage_fear: str,\n",
    "    Social_event_attendance: float,\n",
    "    Going_outside: float,\n",
    "    Drained_after_socializing: str,\n",
    "    Friends_circle_size: float,\n",
    "    Post_frequency: float\n",
    ") -> str:\n",
    "    \"\"\"Predicts if a person is an extrovert or introvert based on features.\"\"\"\n",
    "    # Encode categorical features\n",
    "    stage_fear_encoded = 1 if Stage_fear.lower() == 'yes' else 0\n",
    "    drained_encoded = 1 if Drained_after_socializing.lower() == 'yes' else 0\n",
    "    # Arrange features in correct order\n",
    "    X = np.array([[Time_spent_Alone, stage_fear_encoded, Social_event_attendance, Going_outside, drained_encoded, Friends_circle_size, Post_frequency]])\n",
    "    # Standardize\n",
    "    X_scaled = scaler.transform(X)\n",
    "    # Predict\n",
    "    pred = svc.predict(X_scaled)[0]\n",
    "    # Map prediction to label\n",
    "    return 'Extrovert' if pred == 1 else 'Introvert'"
   ]
  },
  {
   "cell_type": "code",
   "execution_count": 66,
   "id": "741b1a02",
   "metadata": {},
   "outputs": [],
   "source": [
    "from langgraph.prebuilt import create_react_agent\n",
    "load_dotenv()\n",
    "\n",
    "memory = MemorySaver()\n",
    "model = ChatGroq(model=\"llama-3.1-8b-instant\")\n",
    "\n",
    "\n",
    "\n",
    "prompt1=\"\"\"You are a supervisor agent, the user will give values to another agent \n",
    "        you have 6 features and on that basis another agent will decide whether the user is\n",
    "         extrovert or introvert. the features are:\n",
    "        0   Time_spent_Alone           \n",
    "        1   Stage_fear                 \n",
    "        2   Social_event_attendance    \n",
    "        3   Going_outside               \n",
    "        4   Drained_after_socializing  \n",
    "        5   Friends_circle_size        \n",
    "        6   Post_frequency \n",
    "        stage fear is either yes or no, and drained after socializing is either yes or no\n",
    "         if the information isnt sufficient, you can take random values as per your choice \n",
    "         , you standard scale all the values and pass it in the tool\n",
    "          remember only make tool calls and if you cannot make it just say 'i dont know' \"\"\"\n",
    "\n",
    "supervisor_agent= create_react_agent(\n",
    "    model=model,\n",
    "    tools=[personality_predictor],\n",
    "    prompt=prompt1,\n",
    ")\n"
   ]
  },
  {
   "cell_type": "code",
   "execution_count": 67,
   "id": "7cc1f6b5",
   "metadata": {},
   "outputs": [],
   "source": [
    "graph = StateGraph(MessagesState)\n",
    "graph.add_node(\"supervisor\", supervisor_agent)\n",
    "graph.set_entry_point(\"supervisor\")\n",
    "graph.add_edge(\"supervisor\",END)\n",
    "app=graph.compile()\n",
    "\n"
   ]
  },
  {
   "cell_type": "code",
   "execution_count": 68,
   "id": "4605d6f6",
   "metadata": {},
   "outputs": [
    {
     "name": "stdout",
     "output_type": "stream",
     "text": [
      "=== EVENT ===\n",
      "Message 0:\n",
      "  Type: <class 'langchain_core.messages.human.HumanMessage'>\n",
      "  Content: content='i spend 9 hours alone, i dont have a ny stage fear, dont attend any event, never go out, and have no friend circle' additional_kwargs={} response_metadata={} id='0a444910-5935-4ce2-95e4-1bca105122bf'\n",
      "  Role: N/A\n",
      "  Tool Call ID: N/A\n",
      "---\n"
     ]
    },
    {
     "name": "stderr",
     "output_type": "stream",
     "text": [
      "c:\\Users\\Rinku\\OneDrive\\Desktop\\Langgraph\\venv\\Lib\\site-packages\\sklearn\\utils\\validation.py:2749: UserWarning: X does not have valid feature names, but StandardScaler was fitted with feature names\n",
      "  warnings.warn(\n"
     ]
    },
    {
     "name": "stdout",
     "output_type": "stream",
     "text": [
      "=== EVENT ===\n",
      "Message 0:\n",
      "  Type: <class 'langchain_core.messages.human.HumanMessage'>\n",
      "  Content: content='i spend 9 hours alone, i dont have a ny stage fear, dont attend any event, never go out, and have no friend circle' additional_kwargs={} response_metadata={} id='0a444910-5935-4ce2-95e4-1bca105122bf'\n",
      "  Role: N/A\n",
      "  Tool Call ID: N/A\n",
      "---\n",
      "Message 1:\n",
      "  Type: <class 'langchain_core.messages.ai.AIMessage'>\n",
      "  Content: content='' additional_kwargs={'tool_calls': [{'id': '0gwk0pexq', 'function': {'arguments': '{\"Drained_after_socializing\":\"no\",\"Friends_circle_size\":0,\"Going_outside\":0,\"Post_frequency\":0,\"Social_event_attendance\":0,\"Stage_fear\":\"no\",\"Time_spent_Alone\":9}', 'name': 'personality_predictor'}, 'type': 'function'}]} response_metadata={'token_usage': {'completion_tokens': 70, 'prompt_tokens': 526, 'total_tokens': 596, 'completion_time': 0.093333333, 'prompt_time': 0.038789409, 'queue_time': 0.049851591, 'total_time': 0.132122742}, 'model_name': 'llama-3.1-8b-instant', 'system_fingerprint': 'fp_8ab2e50475', 'finish_reason': 'tool_calls', 'logprobs': None} id='run--5866f76e-f371-4869-82f8-076e77986ca6-0' tool_calls=[{'name': 'personality_predictor', 'args': {'Drained_after_socializing': 'no', 'Friends_circle_size': 0, 'Going_outside': 0, 'Post_frequency': 0, 'Social_event_attendance': 0, 'Stage_fear': 'no', 'Time_spent_Alone': 9}, 'id': '0gwk0pexq', 'type': 'tool_call'}] usage_metadata={'input_tokens': 526, 'output_tokens': 70, 'total_tokens': 596}\n",
      "  Role: N/A\n",
      "  Tool Call ID: N/A\n",
      "---\n",
      "Message 2:\n",
      "  Type: <class 'langchain_core.messages.tool.ToolMessage'>\n",
      "  Content: content='Extrovert' name='personality_predictor' id='4ef80082-47f5-49f8-a455-4e266aaa67eb' tool_call_id='0gwk0pexq'\n",
      "  Role: N/A\n",
      "  Tool Call ID: 0gwk0pexq\n",
      "---\n",
      "Message 3:\n",
      "  Type: <class 'langchain_core.messages.ai.AIMessage'>\n",
      "  Content: content='The personality predictor tool has predicted that the user is an extrovert based on the input features.' additional_kwargs={} response_metadata={'token_usage': {'completion_tokens': 21, 'prompt_tokens': 609, 'total_tokens': 630, 'completion_time': 0.0480374, 'prompt_time': 0.042218887, 'queue_time': 0.049900293, 'total_time': 0.090256287}, 'model_name': 'llama-3.1-8b-instant', 'system_fingerprint': 'fp_0f5c9bc037', 'finish_reason': 'stop', 'logprobs': None} id='run--e1a12fab-3110-4242-a79d-b30e5c17134b-0' usage_metadata={'input_tokens': 609, 'output_tokens': 21, 'total_tokens': 630}\n",
      "  Role: N/A\n",
      "  Tool Call ID: N/A\n",
      "---\n"
     ]
    }
   ],
   "source": [
    "user_input = \"i spend 9 hours alone, i dont have a ny stage fear, dont attend any event, never go out, and have no friend circle\"\n",
    "\n",
    "events = app.stream(\n",
    "    {\"messages\": [{\"role\": \"user\", \"content\": user_input}]},\n",
    "    stream_mode=\"values\",\n",
    ")\n",
    "\n",
    "# Print all messages to see tool calls\n",
    "for event in events:\n",
    "    print(\"=== EVENT ===\")\n",
    "    for i, msg in enumerate(event[\"messages\"]):\n",
    "        print(f\"Message {i}:\")\n",
    "        print(f\"  Type: {type(msg)}\")\n",
    "        print(f\"  Content: {msg}\")\n",
    "        print(f\"  Role: {getattr(msg, 'role', 'N/A')}\")\n",
    "        print(f\"  Tool Call ID: {getattr(msg, 'tool_call_id', 'N/A')}\")\n",
    "        print(\"---\")"
   ]
  },
  {
   "cell_type": "code",
   "execution_count": 72,
   "id": "fed00229",
   "metadata": {},
   "outputs": [
    {
     "name": "stdout",
     "output_type": "stream",
     "text": [
      "Direct tool test result: Extrovert\n"
     ]
    },
    {
     "name": "stderr",
     "output_type": "stream",
     "text": [
      "c:\\Users\\Rinku\\OneDrive\\Desktop\\Langgraph\\venv\\Lib\\site-packages\\sklearn\\utils\\validation.py:2749: UserWarning: X does not have valid feature names, but StandardScaler was fitted with feature names\n",
      "  warnings.warn(\n"
     ]
    }
   ],
   "source": [
    "# Test the tool directly using .invoke()\n",
    "result = personality_predictor.invoke({\n",
    "    \"Time_spent_Alone\": 9.0,\n",
    "    \"Stage_fear\": \"no\",\n",
    "    \"Social_event_attendance\": 0.0,\n",
    "    \"Going_outside\": 0.0,\n",
    "    \"Drained_after_socializing\": \"yes\",\n",
    "    \"Friends_circle_size\": 0.0,\n",
    "    \"Post_frequency\": 1.0\n",
    "})\n",
    "print(\"Direct tool test result:\", result)"
   ]
  },
  {
   "cell_type": "code",
   "execution_count": 73,
   "id": "b7bc61af",
   "metadata": {},
   "outputs": [
    {
     "name": "stdout",
     "output_type": "stream",
     "text": [
      "=== EVENT ===\n",
      "Message 0:\n",
      "  Type: <class 'langchain_core.messages.human.HumanMessage'>\n",
      "  Content: content='i spend 9 hours alone, i dont have a ny stage fear, dont attend any event, never go out, and have no friend circle' additional_kwargs={} response_metadata={} id='7371afd7-b8b1-48d2-965d-7aa4509a5c27'\n",
      "  Role: N/A\n",
      "  Tool Call ID: N/A\n",
      "---\n"
     ]
    },
    {
     "name": "stderr",
     "output_type": "stream",
     "text": [
      "c:\\Users\\Rinku\\OneDrive\\Desktop\\Langgraph\\venv\\Lib\\site-packages\\sklearn\\utils\\validation.py:2749: UserWarning: X does not have valid feature names, but StandardScaler was fitted with feature names\n",
      "  warnings.warn(\n"
     ]
    },
    {
     "name": "stdout",
     "output_type": "stream",
     "text": [
      "=== EVENT ===\n",
      "Message 0:\n",
      "  Type: <class 'langchain_core.messages.human.HumanMessage'>\n",
      "  Content: content='i spend 9 hours alone, i dont have a ny stage fear, dont attend any event, never go out, and have no friend circle' additional_kwargs={} response_metadata={} id='7371afd7-b8b1-48d2-965d-7aa4509a5c27'\n",
      "  Role: N/A\n",
      "  Tool Call ID: N/A\n",
      "---\n",
      "Message 1:\n",
      "  Type: <class 'langchain_core.messages.ai.AIMessage'>\n",
      "  Content: content='' additional_kwargs={'tool_calls': [{'id': '4bzhsdch6', 'function': {'arguments': '{\"Drained_after_socializing\":\"no\",\"Friends_circle_size\":0,\"Going_outside\":0,\"Post_frequency\":0,\"Social_event_attendance\":0,\"Stage_fear\":\"no\",\"Time_spent_Alone\":9}', 'name': 'personality_predictor'}, 'type': 'function'}]} response_metadata={'token_usage': {'completion_tokens': 64, 'prompt_tokens': 526, 'total_tokens': 590, 'completion_time': 0.085333333, 'prompt_time': 0.038917649, 'queue_time': 0.07734398, 'total_time': 0.124250982}, 'model_name': 'llama-3.1-8b-instant', 'system_fingerprint': 'fp_8ab2e50475', 'finish_reason': 'tool_calls', 'logprobs': None} id='run--eff0f8c0-c520-462b-8a08-d1721a8cade9-0' tool_calls=[{'name': 'personality_predictor', 'args': {'Drained_after_socializing': 'no', 'Friends_circle_size': 0, 'Going_outside': 0, 'Post_frequency': 0, 'Social_event_attendance': 0, 'Stage_fear': 'no', 'Time_spent_Alone': 9}, 'id': '4bzhsdch6', 'type': 'tool_call'}] usage_metadata={'input_tokens': 526, 'output_tokens': 64, 'total_tokens': 590}\n",
      "  Role: N/A\n",
      "  Tool Call ID: N/A\n",
      "---\n",
      "Message 2:\n",
      "  Type: <class 'langchain_core.messages.tool.ToolMessage'>\n",
      "  Content: content='Extrovert' name='personality_predictor' id='ed7c0b6b-03d4-4989-959a-548133d7ad1b' tool_call_id='4bzhsdch6'\n",
      "  Role: N/A\n",
      "  Tool Call ID: 4bzhsdch6\n",
      "---\n",
      "Message 3:\n",
      "  Type: <class 'langchain_core.messages.ai.AIMessage'>\n",
      "  Content: content='The personality predictor function has predicted that the user is an extrovert based on the provided features.' additional_kwargs={} response_metadata={'token_usage': {'completion_tokens': 21, 'prompt_tokens': 609, 'total_tokens': 630, 'completion_time': 0.043601212, 'prompt_time': 0.041971169, 'queue_time': 0.049032351, 'total_time': 0.085572381}, 'model_name': 'llama-3.1-8b-instant', 'system_fingerprint': 'fp_510c177af0', 'finish_reason': 'stop', 'logprobs': None} id='run--9627d777-0e44-4cb6-aee2-16199000770d-0' usage_metadata={'input_tokens': 609, 'output_tokens': 21, 'total_tokens': 630}\n",
      "  Role: N/A\n",
      "  Tool Call ID: N/A\n",
      "---\n"
     ]
    }
   ],
   "source": [
    "user_input = \"i spend 9 hours alone, i dont have a ny stage fear, dont attend any event, never go out, and have no friend circle\"\n",
    "\n",
    "events = app.stream(\n",
    "    {\"messages\": [{\"role\": \"user\", \"content\": user_input}]},\n",
    "    stream_mode=\"values\",\n",
    ")\n",
    "\n",
    "# Print all messages to see tool calls\n",
    "for event in events:\n",
    "    print(\"=== EVENT ===\")\n",
    "    for i, msg in enumerate(event[\"messages\"]):\n",
    "        print(f\"Message {i}:\")\n",
    "        print(f\"  Type: {type(msg)}\")\n",
    "        print(f\"  Content: {msg}\")\n",
    "        print(f\"  Role: {getattr(msg, 'role', 'N/A')}\")\n",
    "        print(f\"  Tool Call ID: {getattr(msg, 'tool_call_id', 'N/A')}\")\n",
    "        print(\"---\")"
   ]
  },
  {
   "cell_type": "code",
   "execution_count": 76,
   "id": "8e9f1114",
   "metadata": {},
   "outputs": [],
   "source": [
    "for event in events:\n",
    "    for msg in event[\"messages\"]:\n",
    "        print(msg)\n",
    "        # If you want to filter tool calls:\n",
    "        if getattr(msg, \"tool_call_id\", None) or getattr(msg, \"role\", None) == \"tool\":\n",
    "            print(\"TOOL CALL:\", msg)\n",
    "            \n",
    "for event in events:\n",
    "    for msg in event[\"messages\"]:\n",
    "        if msg.get(\"role\") == \"tool\" or \"tool_call_id\" in msg:\n",
    "            print(\"TOOL CALL:\", msg)      \n",
    "\n",
    "for event in events:\n",
    "    for msg in event[\"messages\"]:\n",
    "        print(msg)"
   ]
  }
 ],
 "metadata": {
  "kernelspec": {
   "display_name": "venv",
   "language": "python",
   "name": "python3"
  },
  "language_info": {
   "codemirror_mode": {
    "name": "ipython",
    "version": 3
   },
   "file_extension": ".py",
   "mimetype": "text/x-python",
   "name": "python",
   "nbconvert_exporter": "python",
   "pygments_lexer": "ipython3",
   "version": "3.13.2"
  }
 },
 "nbformat": 4,
 "nbformat_minor": 5
}
